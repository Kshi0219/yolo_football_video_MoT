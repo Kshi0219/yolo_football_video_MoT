{
 "cells": [
  {
   "cell_type": "markdown",
   "metadata": {},
   "source": [
    "## **필요 라이브러리**\n",
    "```shell\n",
    "pip install opencv-python==4.6.0.66\n",
    "pip install opencv-contrib-python==4.6.0.66\n",
    "pip install torch torchvision torchaudio --index-url https://download.pytorch.org/whl/cu117\n",
    "pip install ultralytics\n",
    "pip install deep-sort-realtime\n",
    "pip install imutils\n",
    "```"
   ]
  }
 ],
 "metadata": {
  "language_info": {
   "name": "python"
  }
 },
 "nbformat": 4,
 "nbformat_minor": 2
}
