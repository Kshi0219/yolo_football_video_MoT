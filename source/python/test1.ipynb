{
 "cells": [
  {
   "cell_type": "markdown",
   "metadata": {},
   "source": [
    "## **필요 라이브러리**\n",
    "```shell\n",
    "pip install opencv-python==4.6.0.66\n",
    "pip install opencv-contrib-python==4.6.0.66\n",
    "pip install torch torchvision torchaudio --index-url https://download.pytorch.org/whl/cu117\n",
    "pip install ultralytics\n",
    "pip install deep-sort-realtime\n",
    "pip install imutils\n",
    "```"
   ]
  },
  {
   "cell_type": "code",
   "execution_count": 14,
   "metadata": {},
   "outputs": [],
   "source": [
    "import requests\n",
    "\n",
    "def get_roboflow_project(api_key, project_name):\n",
    "    url = f\"https://api.roboflow.com/project/{project_name}\"\n",
    "    querystring = {\"api_key\": api_key}\n",
    "    response = requests.request(\"GET\", url, params=querystring)\n",
    "    project = response.json()\n",
    "    return project\n",
    "\n",
    "# 사용 예시\n",
    "api_key = \"7LaCX25FUT6blBXw40FE\"\n",
    "project_name = \"chelsea_newcastle\"\n",
    "project = get_roboflow_project(api_key, project_name)"
   ]
  },
  {
   "cell_type": "code",
   "execution_count": 17,
   "metadata": {},
   "outputs": [
    {
     "data": {
      "text/plain": [
       "[{'id': 'project/chelsea_newcastle/1',\n",
       "  'name': '2024-03-25 4:05pm',\n",
       "  'created': 1711350324.142,\n",
       "  'images': 64,\n",
       "  'splits': {'valid': 13, 'test': 6, 'train': 45},\n",
       "  'model': {'id': 'chelsea_newcastle/1',\n",
       "   'endpoint': 'https://detect.roboflow.com/chelsea_newcastle/1',\n",
       "   'start': 1711350353.431,\n",
       "   'end': 1711351383.1,\n",
       "   'fromScratch': False,\n",
       "   'tfjs': True,\n",
       "   'oak': True,\n",
       "   'map': '85.33',\n",
       "   'recall': '82.73',\n",
       "   'precision': '85.59'},\n",
       "  'preprocessing': {'auto-orient': True,\n",
       "   'resize': {'width': 640, 'format': 'Stretch to', 'height': 640}},\n",
       "  'augmentation': {},\n",
       "  'exports': ['yolov5pytorch']}]"
      ]
     },
     "execution_count": 17,
     "metadata": {},
     "output_type": "execute_result"
    }
   ],
   "source": [
    "project['versions']"
   ]
  }
 ],
 "metadata": {
  "kernelspec": {
   "display_name": "base",
   "language": "python",
   "name": "python3"
  },
  "language_info": {
   "codemirror_mode": {
    "name": "ipython",
    "version": 3
   },
   "file_extension": ".py",
   "mimetype": "text/x-python",
   "name": "python",
   "nbconvert_exporter": "python",
   "pygments_lexer": "ipython3",
   "version": "3.11.8"
  }
 },
 "nbformat": 4,
 "nbformat_minor": 2
}
