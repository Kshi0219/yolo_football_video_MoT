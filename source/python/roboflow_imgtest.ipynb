{
 "cells": [
  {
   "cell_type": "code",
   "execution_count": 1,
   "metadata": {},
   "outputs": [],
   "source": [
    "from roboflow import Roboflow\n",
    "import cv2\n",
    "import numpy as np"
   ]
  },
  {
   "cell_type": "code",
   "execution_count": 2,
   "metadata": {
    "vscode": {
     "languageId": "powershell"
    }
   },
   "outputs": [
    {
     "name": "stdout",
     "output_type": "stream",
     "text": [
      "C:\\project\\yolo_football_video_MoT\n"
     ]
    },
    {
     "name": "stderr",
     "output_type": "stream",
     "text": [
      "This is now an optional IPython functionality, setting dhist requires you to install the `pickleshare` library.\n"
     ]
    }
   ],
   "source": [
    "cd C:\\project\\yolo_football_video_MoT"
   ]
  },
  {
   "cell_type": "code",
   "execution_count": 3,
   "metadata": {},
   "outputs": [
    {
     "name": "stdout",
     "output_type": "stream",
     "text": [
      "loading Roboflow workspace...\n",
      "loading Roboflow project...\n"
     ]
    }
   ],
   "source": [
    "# Roboflow 객체 초기화\n",
    "rf = Roboflow(api_key=\"7LaCX25FUT6blBXw40FE\")\n",
    "\n",
    "# 워크스페이스, 프로젝트, 버전 지정\n",
    "project = rf.workspace(\"kshi\").project(\"chelsea_newcastle\")\n",
    "version = project.version(1)\n",
    "\n",
    "# Roboflow custom project 다운로드\n",
    "dataset = version.download(\"yolov9\")\n",
    "\n",
    "# 불러온 프로젝트 버전의 모델 저장\n",
    "model = version.model\n",
    "\n",
    "# 결과를 이미지에 표시\n",
    "image = cv2.imread(\"data/football2.jpg\")"
   ]
  },
  {
   "cell_type": "code",
   "execution_count": 4,
   "metadata": {
    "vscode": {
     "languageId": "powershell"
    }
   },
   "outputs": [
    {
     "name": "stdout",
     "output_type": "stream",
     "text": [
      "C:\\project\\yolo_football_video_MoT\\prediction\\img\n"
     ]
    }
   ],
   "source": [
    "cd .\\prediction\\img"
   ]
  },
  {
   "cell_type": "code",
   "execution_count": 5,
   "metadata": {},
   "outputs": [
    {
     "ename": "HTTPError",
     "evalue": "403 Client Error: Forbidden for url: https://detect.roboflow.com/chelsea_newcastle/1?api_key=7LaCX25FUT6blBXw40FE&name=YOUR_IMAGE.jpg&overlap=30&confidence=50&stroke=1&labels=false&format=json",
     "output_type": "error",
     "traceback": [
      "\u001b[1;31m---------------------------------------------------------------------------\u001b[0m",
      "\u001b[1;31mHTTPError\u001b[0m                                 Traceback (most recent call last)",
      "Cell \u001b[1;32mIn[5], line 1\u001b[0m\n\u001b[1;32m----> 1\u001b[0m prediction\u001b[38;5;241m=\u001b[39m\u001b[43mmodel\u001b[49m\u001b[38;5;241;43m.\u001b[39;49m\u001b[43mpredict\u001b[49m\u001b[43m(\u001b[49m\n\u001b[0;32m      2\u001b[0m \u001b[43m    \u001b[49m\u001b[43mimage\u001b[49m\u001b[43m,\u001b[49m\n\u001b[0;32m      3\u001b[0m \u001b[43m    \u001b[49m\u001b[43mconfidence\u001b[49m\u001b[38;5;241;43m=\u001b[39;49m\u001b[38;5;241;43m50\u001b[39;49m\n\u001b[0;32m      4\u001b[0m \u001b[43m    \u001b[49m\u001b[43m)\u001b[49m\n\u001b[0;32m      5\u001b[0m \u001b[38;5;66;03m# Hex 색상코드를 RGB색상코드로 변경\u001b[39;00m\n\u001b[0;32m      6\u001b[0m \u001b[38;5;28;01mdef\u001b[39;00m \u001b[38;5;21mhex_to_rgb\u001b[39m(hex_color):\n",
      "File \u001b[1;32mc:\\envs\\yolo_env\\Lib\\site-packages\\roboflow\\models\\object_detection.py:241\u001b[0m, in \u001b[0;36mObjectDetectionModel.predict\u001b[1;34m(self, image_path, hosted, format, classes, overlap, confidence, stroke, labels)\u001b[0m\n\u001b[0;32m    238\u001b[0m     \u001b[38;5;66;03m# POST to the API\u001b[39;00m\n\u001b[0;32m    239\u001b[0m     resp \u001b[38;5;241m=\u001b[39m requests\u001b[38;5;241m.\u001b[39mpost(\u001b[38;5;28mself\u001b[39m\u001b[38;5;241m.\u001b[39mapi_url)\n\u001b[1;32m--> 241\u001b[0m \u001b[43mresp\u001b[49m\u001b[38;5;241;43m.\u001b[39;49m\u001b[43mraise_for_status\u001b[49m\u001b[43m(\u001b[49m\u001b[43m)\u001b[49m\n\u001b[0;32m    242\u001b[0m \u001b[38;5;66;03m# Return a prediction group if JSON data\u001b[39;00m\n\u001b[0;32m    243\u001b[0m \u001b[38;5;28;01mif\u001b[39;00m \u001b[38;5;28mself\u001b[39m\u001b[38;5;241m.\u001b[39mformat \u001b[38;5;241m==\u001b[39m \u001b[38;5;124m\"\u001b[39m\u001b[38;5;124mjson\u001b[39m\u001b[38;5;124m\"\u001b[39m:\n",
      "File \u001b[1;32mc:\\envs\\yolo_env\\Lib\\site-packages\\requests\\models.py:1021\u001b[0m, in \u001b[0;36mResponse.raise_for_status\u001b[1;34m(self)\u001b[0m\n\u001b[0;32m   1016\u001b[0m     http_error_msg \u001b[38;5;241m=\u001b[39m (\n\u001b[0;32m   1017\u001b[0m         \u001b[38;5;124mf\u001b[39m\u001b[38;5;124m\"\u001b[39m\u001b[38;5;132;01m{\u001b[39;00m\u001b[38;5;28mself\u001b[39m\u001b[38;5;241m.\u001b[39mstatus_code\u001b[38;5;132;01m}\u001b[39;00m\u001b[38;5;124m Server Error: \u001b[39m\u001b[38;5;132;01m{\u001b[39;00mreason\u001b[38;5;132;01m}\u001b[39;00m\u001b[38;5;124m for url: \u001b[39m\u001b[38;5;132;01m{\u001b[39;00m\u001b[38;5;28mself\u001b[39m\u001b[38;5;241m.\u001b[39murl\u001b[38;5;132;01m}\u001b[39;00m\u001b[38;5;124m\"\u001b[39m\n\u001b[0;32m   1018\u001b[0m     )\n\u001b[0;32m   1020\u001b[0m \u001b[38;5;28;01mif\u001b[39;00m http_error_msg:\n\u001b[1;32m-> 1021\u001b[0m     \u001b[38;5;28;01mraise\u001b[39;00m HTTPError(http_error_msg, response\u001b[38;5;241m=\u001b[39m\u001b[38;5;28mself\u001b[39m)\n",
      "\u001b[1;31mHTTPError\u001b[0m: 403 Client Error: Forbidden for url: https://detect.roboflow.com/chelsea_newcastle/1?api_key=7LaCX25FUT6blBXw40FE&name=YOUR_IMAGE.jpg&overlap=30&confidence=50&stroke=1&labels=false&format=json"
     ]
    }
   ],
   "source": [
    "prediction=model.predict(\n",
    "    image,\n",
    "    confidence=50\n",
    "    )\n",
    "# Hex 색상코드를 RGB색상코드로 변경\n",
    "def hex_to_rgb(hex_color):\n",
    "    hex_color = hex_color.lstrip('#')\n",
    "    return tuple(int(hex_color[i:i+2], 16) for i in (0, 2, 4))\n",
    "for result in prediction:\n",
    "    bottom_right = (round(result['x']-result['width']/2), round(result['y']-result['height']/2))\n",
    "    top_left = (round(result['x']+result['width']/2), round(result['y']+result['height']/2))\n",
    "    color = hex_to_rgb(version.colors[result['class']])\n",
    "    thickness = 2\n",
    "    cv2.rectangle(image, bottom_right, top_left, color, thickness)\n",
    "    cv2.putText(image,result['class'],(round(result['x']-result['width']/2),round(result['y']-result['height']/2-5)),cv2.FONT_HERSHEY_SIMPLEX,0.8,color=color,thickness=3)\n",
    "\n",
    "# 결과 이미지를 파일로 저장\n",
    "cv2.imwrite('results_imgtest.jpg', image)\n"
   ]
  }
 ],
 "metadata": {
  "kernelspec": {
   "display_name": "yolo_env",
   "language": "python",
   "name": "python3"
  },
  "language_info": {
   "codemirror_mode": {
    "name": "ipython",
    "version": 3
   },
   "file_extension": ".py",
   "mimetype": "text/x-python",
   "name": "python",
   "nbconvert_exporter": "python",
   "pygments_lexer": "ipython3",
   "version": "3.11.8"
  }
 },
 "nbformat": 4,
 "nbformat_minor": 2
}
