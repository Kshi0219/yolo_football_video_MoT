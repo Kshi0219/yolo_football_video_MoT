{
 "cells": [
  {
   "cell_type": "code",
   "execution_count": 1,
   "metadata": {},
   "outputs": [],
   "source": [
    "from roboflow import Roboflow\n",
    "import cv2\n",
    "import numpy as np"
   ]
  },
  {
   "cell_type": "code",
   "execution_count": 2,
   "metadata": {
    "vscode": {
     "languageId": "powershell"
    }
   },
   "outputs": [
    {
     "name": "stdout",
     "output_type": "stream",
     "text": [
      "C:\\project\\yolo_football_video_MoT\n"
     ]
    },
    {
     "name": "stderr",
     "output_type": "stream",
     "text": [
      "This is now an optional IPython functionality, setting dhist requires you to install the `pickleshare` library.\n"
     ]
    }
   ],
   "source": [
    "cd C:\\project\\yolo_football_video_MoT"
   ]
  },
  {
   "cell_type": "code",
   "execution_count": 3,
   "metadata": {},
   "outputs": [
    {
     "name": "stdout",
     "output_type": "stream",
     "text": [
      "loading Roboflow workspace...\n",
      "loading Roboflow project...\n"
     ]
    }
   ],
   "source": [
    "from roboflow import Roboflow\n",
    "import cv2\n",
    "import numpy as np\n",
    "\n",
    "# Roboflow 객체 초기화\n",
    "rf = Roboflow(api_key=\"7LaCX25FUT6blBXw40FE\")\n",
    "\n",
    "# 워크스페이스, 프로젝트, 버전 지정\n",
    "project = rf.workspace(\"kshi\").project(\"chelsea_newcastle\")\n",
    "version = project.version(1)\n",
    "\n",
    "# Roboflow custom project 다운로드\n",
    "dataset = version.download(\"yolov9\")\n",
    "\n",
    "# 불러온 프로젝트 버전의 모델 저장\n",
    "model = version.model\n",
    "\n",
    "# 결과를 이미지에 표시\n",
    "image = cv2.imread(\"data/football2.jpg\")"
   ]
  },
  {
   "cell_type": "code",
   "execution_count": 4,
   "metadata": {
    "vscode": {
     "languageId": "powershell"
    }
   },
   "outputs": [
    {
     "name": "stdout",
     "output_type": "stream",
     "text": [
      "C:\\project\\yolo_football_video_MoT\\prediction\\img\n"
     ]
    }
   ],
   "source": [
    "cd .\\prediction\\img"
   ]
  },
  {
   "cell_type": "code",
   "execution_count": 5,
   "metadata": {},
   "outputs": [
    {
     "data": {
      "text/plain": [
       "True"
      ]
     },
     "execution_count": 5,
     "metadata": {},
     "output_type": "execute_result"
    }
   ],
   "source": [
    "prediction=model.predict(\n",
    "    image,\n",
    "    confidence=50\n",
    "    )\n",
    "# Hex 색상코드를 RGB색상코드로 변경\n",
    "def hex_to_rgb(hex_color):\n",
    "    hex_color = hex_color.lstrip('#')\n",
    "    return tuple(int(hex_color[i:i+2], 16) for i in (0, 2, 4))\n",
    "for result in prediction:\n",
    "    bottom_right = (round(result['x']-result['width']/2), round(result['y']-result['height']/2))\n",
    "    top_left = (round(result['x']+result['width']/2), round(result['y']+result['height']/2))\n",
    "    color = hex_to_rgb(version.colors[result['class']])\n",
    "    thickness = 2\n",
    "    cv2.rectangle(image, bottom_right, top_left, color, thickness)\n",
    "    cv2.putText(image,result['class'],(round(result['x']-result['width']/2),round(result['y']-result['height']/2-5)),cv2.FONT_HERSHEY_SIMPLEX,0.8,color=color,thickness=3)\n",
    "\n",
    "# 결과 이미지를 파일로 저장\n",
    "cv2.imwrite('results_imgtest.jpg', image)\n"
   ]
  }
 ],
 "metadata": {
  "kernelspec": {
   "display_name": "yolo_env",
   "language": "python",
   "name": "python3"
  },
  "language_info": {
   "codemirror_mode": {
    "name": "ipython",
    "version": 3
   },
   "file_extension": ".py",
   "mimetype": "text/x-python",
   "name": "python",
   "nbconvert_exporter": "python",
   "pygments_lexer": "ipython3",
   "version": "3.11.8"
  }
 },
 "nbformat": 4,
 "nbformat_minor": 2
}
