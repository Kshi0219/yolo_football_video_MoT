{
 "cells": [
  {
   "cell_type": "code",
   "execution_count": 7,
   "metadata": {},
   "outputs": [],
   "source": [
    "from roboflow import Roboflow\n",
    "import cv2\n",
    "import numpy as np"
   ]
  },
  {
   "cell_type": "code",
   "execution_count": null,
   "metadata": {},
   "outputs": [],
   "source": [
    "rf = Roboflow(api_key=\"EQazb1etxBV71iH6TAIX\")\n",
    "project = rf.workspace('kshi2').project(\"chelsea_newcastle_test\")\n",
    "model = project.version(1312).model"
   ]
  },
  {
   "cell_type": "code",
   "execution_count": 8,
   "metadata": {},
   "outputs": [],
   "source": [
    "img=cv2.imread('C:/my_project/yolo_football_video_MoT/data/football2.jpg')"
   ]
  },
  {
   "cell_type": "code",
   "execution_count": 9,
   "metadata": {
    "vscode": {
     "languageId": "powershell"
    }
   },
   "outputs": [
    {
     "name": "stdout",
     "output_type": "stream",
     "text": [
      "c:\\my_project\\yolo_football_video_MoT\\prediction\\img\n"
     ]
    },
    {
     "name": "stderr",
     "output_type": "stream",
     "text": [
      "This is now an optional IPython functionality, setting dhist requires you to install the `pickleshare` library.\n"
     ]
    }
   ],
   "source": [
    "cd .\\prediction\\img"
   ]
  },
  {
   "cell_type": "code",
   "execution_count": 14,
   "metadata": {},
   "outputs": [],
   "source": [
    "# visualize your prediction\n",
    "prediction=model.predict(img, confidence=40)"
   ]
  },
  {
   "cell_type": "code",
   "execution_count": 15,
   "metadata": {},
   "outputs": [
    {
     "data": {
      "text/plain": [
       "True"
      ]
     },
     "execution_count": 15,
     "metadata": {},
     "output_type": "execute_result"
    }
   ],
   "source": [
    "# Hex 색상코드를 RGB색상코드로 변경\n",
    "def hex_to_rgb(hex_color):\n",
    "    hex_color = hex_color.lstrip('#')\n",
    "    return tuple(int(hex_color[i:i+2], 16) for i in (0, 2, 4))\n",
    "for result in prediction:\n",
    "    bottom_right = (round(result['x']-result['width']/2), round(result['y']-result['height']/2))\n",
    "    top_left = (round(result['x']+result['width']/2), round(result['y']+result['height']/2))\n",
    "    color = hex_to_rgb(model.colors[result['class']])\n",
    "    thickness = 2\n",
    "    cv2.rectangle(img, bottom_right, top_left, color, thickness)\n",
    "    cv2.putText(img,result['class'],(round(result['x']-result['width']/2),round(result['y']-result['height']/2-5)),cv2.FONT_HERSHEY_SIMPLEX,0.8,color=color,thickness=3)\n",
    "\n",
    "# 결과 이미지를 파일로 저장\n",
    "cv2.imwrite('results_imgtest.jpg', img)"
   ]
  }
 ],
 "metadata": {
  "kernelspec": {
   "display_name": "yolo_env",
   "language": "python",
   "name": "python3"
  },
  "language_info": {
   "codemirror_mode": {
    "name": "ipython",
    "version": 3
   },
   "file_extension": ".py",
   "mimetype": "text/x-python",
   "name": "python",
   "nbconvert_exporter": "python",
   "pygments_lexer": "ipython3",
   "version": "3.11.7"
  }
 },
 "nbformat": 4,
 "nbformat_minor": 2
}
