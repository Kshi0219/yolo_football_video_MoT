{
 "cells": [
  {
   "cell_type": "code",
   "execution_count": 3,
   "metadata": {
    "vscode": {
     "languageId": "powershell"
    }
   },
   "outputs": [
    {
     "name": "stdout",
     "output_type": "stream",
     "text": [
      "Requirement already satisfied: inference in c:\\python_envs\\yolo_env\\lib\\site-packages (0.9.17)\n",
      "Requirement already satisfied: APScheduler<=3.10.1 in c:\\python_envs\\yolo_env\\lib\\site-packages (from inference) (3.10.1)\n",
      "Requirement already satisfied: cython<=3.0.0 in c:\\python_envs\\yolo_env\\lib\\site-packages (from inference) (3.0.0)\n",
      "Requirement already satisfied: python-dotenv<=2.0.0 in c:\\python_envs\\yolo_env\\lib\\site-packages (from inference) (1.0.1)\n",
      "Requirement already satisfied: fastapi<1.0,>=0.100 in c:\\python_envs\\yolo_env\\lib\\site-packages (from inference) (0.110.0)\n",
      "Requirement already satisfied: numpy<=1.25.2 in c:\\python_envs\\yolo_env\\lib\\site-packages (from inference) (1.25.2)\n",
      "Requirement already satisfied: opencv-python<=4.8.0.76 in c:\\python_envs\\yolo_env\\lib\\site-packages (from inference) (4.8.0.76)\n",
      "Requirement already satisfied: piexif<=1.1.3 in c:\\python_envs\\yolo_env\\lib\\site-packages (from inference) (1.1.3)\n",
      "Requirement already satisfied: pillow<11.0 in c:\\python_envs\\yolo_env\\lib\\site-packages (from inference) (10.2.0)\n",
      "Requirement already satisfied: prometheus-fastapi-instrumentator<=6.0.0 in c:\\python_envs\\yolo_env\\lib\\site-packages (from inference) (6.0.0)\n",
      "Requirement already satisfied: redis<6.0.0 in c:\\python_envs\\yolo_env\\lib\\site-packages (from inference) (5.0.3)\n",
      "Requirement already satisfied: requests>=2.26.0 in c:\\python_envs\\yolo_env\\lib\\site-packages (from inference) (2.31.0)\n",
      "Requirement already satisfied: rich<=13.5.2 in c:\\python_envs\\yolo_env\\lib\\site-packages (from inference) (13.5.2)\n",
      "Requirement already satisfied: shapely<=2.0.1 in c:\\python_envs\\yolo_env\\lib\\site-packages (from inference) (2.0.1)\n",
      "Requirement already satisfied: supervision<1.0.0,>0.16.0 in c:\\python_envs\\yolo_env\\lib\\site-packages (from inference) (0.19.0)Note: you may need to restart the kernel to use updated packages.\n",
      "\n",
      "Requirement already satisfied: pybase64<2.0.0 in c:\\python_envs\\yolo_env\\lib\\site-packages (from inference) (1.3.2)\n",
      "Requirement already satisfied: scikit-image>=0.19.0 in c:\\python_envs\\yolo_env\\lib\\site-packages (from inference) (0.22.0)\n",
      "Requirement already satisfied: requests-toolbelt>=1.0.0 in c:\\python_envs\\yolo_env\\lib\\site-packages (from inference) (1.0.0)\n",
      "Requirement already satisfied: wheel>=0.38.1 in c:\\python_envs\\yolo_env\\lib\\site-packages (from inference) (0.43.0)"
     ]
    },
    {
     "name": "stdout",
     "output_type": "stream",
     "text": [
      "\n",
      "Requirement already satisfied: setuptools>=65.5.1 in c:\\python_envs\\yolo_env\\lib\\site-packages (from inference) (69.2.0)\n",
      "Requirement already satisfied: pytest-asyncio<=0.21.1 in c:\\python_envs\\yolo_env\\lib\\site-packages (from inference) (0.21.1)\n",
      "Requirement already satisfied: networkx>=3.1 in c:\\python_envs\\yolo_env\\lib\\site-packages (from inference) (3.2.1)\n",
      "Requirement already satisfied: pydantic>=2.0 in c:\\python_envs\\yolo_env\\lib\\site-packages (from inference) (2.6.4)\n",
      "Requirement already satisfied: openai>=1.12.0 in c:\\python_envs\\yolo_env\\lib\\site-packages (from inference) (1.14.3)\n",
      "Requirement already satisfied: structlog>=24.1.0 in c:\\python_envs\\yolo_env\\lib\\site-packages (from inference) (24.1.0)\n",
      "Requirement already satisfied: boto3<=1.28.23 in c:\\python_envs\\yolo_env\\lib\\site-packages (from inference) (1.28.23)\n",
      "Requirement already satisfied: typing-extensions>=4.8.0 in c:\\python_envs\\yolo_env\\lib\\site-packages (from inference) (4.10.0)\n",
      "Requirement already satisfied: onnxruntime<=1.15.1 in c:\\python_envs\\yolo_env\\lib\\site-packages (from inference) (1.15.1)\n",
      "Requirement already satisfied: GPUtil==1.4.0 in c:\\python_envs\\yolo_env\\lib\\site-packages (from inference) (1.4.0)\n",
      "Requirement already satisfied: docker==6.1.3 in c:\\python_envs\\yolo_env\\lib\\site-packages (from inference) (6.1.3)\n",
      "Requirement already satisfied: typer==0.9.0 in c:\\python_envs\\yolo_env\\lib\\site-packages (from inference) (0.9.0)\n",
      "Requirement already satisfied: skypilot==0.4.1 in c:\\python_envs\\yolo_env\\lib\\site-packages (from inference) (0.4.1)\n",
      "Requirement already satisfied: PyYAML>=6.0.0 in c:\\python_envs\\yolo_env\\lib\\site-packages (from inference) (6.0.1)\n",
      "Requirement already satisfied: tqdm>=4.0.0 in c:\\python_envs\\yolo_env\\lib\\site-packages (from inference) (4.66.2)\n",
      "Requirement already satisfied: py-cpuinfo>=9.0.0 in c:\\python_envs\\yolo_env\\lib\\site-packages (from inference) (9.0.0)\n",
      "Requirement already satisfied: aiohttp>=3.9.0 in c:\\python_envs\\yolo_env\\lib\\site-packages (from inference) (3.9.3)\n",
      "Requirement already satisfied: backoff>=2.2.0 in c:\\python_envs\\yolo_env\\lib\\site-packages (from inference) (2.2.1)\n",
      "Requirement already satisfied: dataclasses-json>=0.6.0 in c:\\python_envs\\yolo_env\\lib\\site-packages (from inference) (0.6.4)\n",
      "Requirement already satisfied: aioresponses>=0.7.6 in c:\\python_envs\\yolo_env\\lib\\site-packages (from inference) (0.7.6)\n",
      "Requirement already satisfied: packaging>=14.0 in c:\\python_envs\\yolo_env\\lib\\site-packages (from docker==6.1.3->inference) (24.0)\n",
      "Requirement already satisfied: urllib3>=1.26.0 in c:\\python_envs\\yolo_env\\lib\\site-packages (from docker==6.1.3->inference) (1.26.18)\n",
      "Requirement already satisfied: websocket-client>=0.32.0 in c:\\python_envs\\yolo_env\\lib\\site-packages (from docker==6.1.3->inference) (1.7.0)\n",
      "Requirement already satisfied: pywin32>=304 in c:\\python_envs\\yolo_env\\lib\\site-packages (from docker==6.1.3->inference) (306)\n",
      "Requirement already satisfied: cachetools in c:\\python_envs\\yolo_env\\lib\\site-packages (from skypilot==0.4.1->inference) (5.3.3)\n",
      "Requirement already satisfied: click>=7.0 in c:\\python_envs\\yolo_env\\lib\\site-packages (from skypilot==0.4.1->inference) (8.1.7)\n",
      "Requirement already satisfied: colorama<0.4.5 in c:\\python_envs\\yolo_env\\lib\\site-packages (from skypilot==0.4.1->inference) (0.4.4)\n",
      "Requirement already satisfied: cryptography in c:\\python_envs\\yolo_env\\lib\\site-packages (from skypilot==0.4.1->inference) (42.0.5)\n",
      "Requirement already satisfied: jinja2>=3.0 in c:\\python_envs\\yolo_env\\lib\\site-packages (from skypilot==0.4.1->inference) (3.1.3)\n",
      "Requirement already satisfied: jsonschema in c:\\python_envs\\yolo_env\\lib\\site-packages (from skypilot==0.4.1->inference) (4.21.1)\n",
      "Requirement already satisfied: pandas>=1.3.0 in c:\\python_envs\\yolo_env\\lib\\site-packages (from skypilot==0.4.1->inference) (2.2.1)\n",
      "Requirement already satisfied: pendulum in c:\\python_envs\\yolo_env\\lib\\site-packages (from skypilot==0.4.1->inference) (3.0.0)\n",
      "Requirement already satisfied: PrettyTable>=2.0.0 in c:\\python_envs\\yolo_env\\lib\\site-packages (from skypilot==0.4.1->inference) (3.10.0)\n",
      "Requirement already satisfied: tabulate in c:\\python_envs\\yolo_env\\lib\\site-packages (from skypilot==0.4.1->inference) (0.9.0)\n",
      "Requirement already satisfied: filelock>=3.6.0 in c:\\python_envs\\yolo_env\\lib\\site-packages (from skypilot==0.4.1->inference) (3.13.3)\n",
      "Requirement already satisfied: psutil in c:\\python_envs\\yolo_env\\lib\\site-packages (from skypilot==0.4.1->inference) (5.9.8)\n",
      "Requirement already satisfied: pulp in c:\\python_envs\\yolo_env\\lib\\site-packages (from skypilot==0.4.1->inference) (2.8.0)\n",
      "Requirement already satisfied: awscli>=1.27.10 in c:\\python_envs\\yolo_env\\lib\\site-packages (from skypilot==0.4.1->inference) (1.29.54)\n",
      "Requirement already satisfied: botocore>=1.29.10 in c:\\python_envs\\yolo_env\\lib\\site-packages (from skypilot==0.4.1->inference) (1.31.54)\n",
      "Requirement already satisfied: aiosignal>=1.1.2 in c:\\python_envs\\yolo_env\\lib\\site-packages (from aiohttp>=3.9.0->inference) (1.3.1)\n",
      "Requirement already satisfied: attrs>=17.3.0 in c:\\python_envs\\yolo_env\\lib\\site-packages (from aiohttp>=3.9.0->inference) (23.2.0)\n",
      "Requirement already satisfied: frozenlist>=1.1.1 in c:\\python_envs\\yolo_env\\lib\\site-packages (from aiohttp>=3.9.0->inference) (1.4.1)\n",
      "Requirement already satisfied: multidict<7.0,>=4.5 in c:\\python_envs\\yolo_env\\lib\\site-packages (from aiohttp>=3.9.0->inference) (6.0.5)\n",
      "Requirement already satisfied: yarl<2.0,>=1.0 in c:\\python_envs\\yolo_env\\lib\\site-packages (from aiohttp>=3.9.0->inference) (1.9.4)\n",
      "Requirement already satisfied: six>=1.4.0 in c:\\python_envs\\yolo_env\\lib\\site-packages (from APScheduler<=3.10.1->inference) (1.16.0)\n",
      "Requirement already satisfied: pytz in c:\\python_envs\\yolo_env\\lib\\site-packages (from APScheduler<=3.10.1->inference) (2024.1)\n",
      "Requirement already satisfied: tzlocal!=3.*,>=2.0 in c:\\python_envs\\yolo_env\\lib\\site-packages (from APScheduler<=3.10.1->inference) (5.2)\n",
      "Requirement already satisfied: jmespath<2.0.0,>=0.7.1 in c:\\python_envs\\yolo_env\\lib\\site-packages (from boto3<=1.28.23->inference) (1.0.1)\n",
      "Requirement already satisfied: s3transfer<0.7.0,>=0.6.0 in c:\\python_envs\\yolo_env\\lib\\site-packages (from boto3<=1.28.23->inference) (0.6.2)\n",
      "Requirement already satisfied: marshmallow<4.0.0,>=3.18.0 in c:\\python_envs\\yolo_env\\lib\\site-packages (from dataclasses-json>=0.6.0->inference) (3.21.1)\n",
      "Requirement already satisfied: typing-inspect<1,>=0.4.0 in c:\\python_envs\\yolo_env\\lib\\site-packages (from dataclasses-json>=0.6.0->inference) (0.9.0)\n",
      "Requirement already satisfied: starlette<0.37.0,>=0.36.3 in c:\\python_envs\\yolo_env\\lib\\site-packages (from fastapi<1.0,>=0.100->inference) (0.36.3)\n",
      "Requirement already satisfied: coloredlogs in c:\\python_envs\\yolo_env\\lib\\site-packages (from onnxruntime<=1.15.1->inference) (15.0.1)\n",
      "Requirement already satisfied: flatbuffers in c:\\python_envs\\yolo_env\\lib\\site-packages (from onnxruntime<=1.15.1->inference) (24.3.25)\n",
      "Requirement already satisfied: protobuf in c:\\python_envs\\yolo_env\\lib\\site-packages (from onnxruntime<=1.15.1->inference) (5.26.1)\n",
      "Requirement already satisfied: sympy in c:\\python_envs\\yolo_env\\lib\\site-packages (from onnxruntime<=1.15.1->inference) (1.12)\n",
      "Requirement already satisfied: anyio<5,>=3.5.0 in c:\\python_envs\\yolo_env\\lib\\site-packages (from openai>=1.12.0->inference) (4.3.0)\n",
      "Requirement already satisfied: distro<2,>=1.7.0 in c:\\python_envs\\yolo_env\\lib\\site-packages (from openai>=1.12.0->inference) (1.9.0)\n",
      "Requirement already satisfied: httpx<1,>=0.23.0 in c:\\python_envs\\yolo_env\\lib\\site-packages (from openai>=1.12.0->inference) (0.27.0)\n",
      "Requirement already satisfied: sniffio in c:\\python_envs\\yolo_env\\lib\\site-packages (from openai>=1.12.0->inference) (1.3.1)\n",
      "Requirement already satisfied: prometheus-client<1.0.0,>=0.8.0 in c:\\python_envs\\yolo_env\\lib\\site-packages (from prometheus-fastapi-instrumentator<=6.0.0->inference) (0.20.0)\n",
      "Requirement already satisfied: annotated-types>=0.4.0 in c:\\python_envs\\yolo_env\\lib\\site-packages (from pydantic>=2.0->inference) (0.6.0)\n",
      "Requirement already satisfied: pydantic-core==2.16.3 in c:\\python_envs\\yolo_env\\lib\\site-packages (from pydantic>=2.0->inference) (2.16.3)\n",
      "Requirement already satisfied: pytest>=7.0.0 in c:\\python_envs\\yolo_env\\lib\\site-packages (from pytest-asyncio<=0.21.1->inference) (8.1.1)\n",
      "Requirement already satisfied: charset-normalizer<4,>=2 in c:\\python_envs\\yolo_env\\lib\\site-packages (from requests>=2.26.0->inference) (3.3.2)\n",
      "Requirement already satisfied: idna<4,>=2.5 in c:\\python_envs\\yolo_env\\lib\\site-packages (from requests>=2.26.0->inference) (2.10)\n",
      "Requirement already satisfied: certifi>=2017.4.17 in c:\\python_envs\\yolo_env\\lib\\site-packages (from requests>=2.26.0->inference) (2023.7.22)\n",
      "Requirement already satisfied: markdown-it-py>=2.2.0 in c:\\python_envs\\yolo_env\\lib\\site-packages (from rich<=13.5.2->inference) (3.0.0)\n",
      "Requirement already satisfied: pygments<3.0.0,>=2.13.0 in c:\\python_envs\\yolo_env\\lib\\site-packages (from rich<=13.5.2->inference) (2.17.2)\n",
      "Requirement already satisfied: scipy>=1.8 in c:\\python_envs\\yolo_env\\lib\\site-packages (from scikit-image>=0.19.0->inference) (1.12.0)\n",
      "Requirement already satisfied: imageio>=2.27 in c:\\python_envs\\yolo_env\\lib\\site-packages (from scikit-image>=0.19.0->inference) (2.34.0)\n",
      "Requirement already satisfied: tifffile>=2022.8.12 in c:\\python_envs\\yolo_env\\lib\\site-packages (from scikit-image>=0.19.0->inference) (2024.2.12)\n",
      "Requirement already satisfied: lazy_loader>=0.3 in c:\\python_envs\\yolo_env\\lib\\site-packages (from scikit-image>=0.19.0->inference) (0.3)\n",
      "Requirement already satisfied: defusedxml<0.8.0,>=0.7.1 in c:\\python_envs\\yolo_env\\lib\\site-packages (from supervision<1.0.0,>0.16.0->inference) (0.7.1)\n",
      "Requirement already satisfied: matplotlib>=3.6.0 in c:\\python_envs\\yolo_env\\lib\\site-packages (from supervision<1.0.0,>0.16.0->inference) (3.8.3)\n",
      "Requirement already satisfied: opencv-python-headless>=4.5.5.64 in c:\\python_envs\\yolo_env\\lib\\site-packages (from supervision<1.0.0,>0.16.0->inference) (4.8.0.74)\n",
      "Requirement already satisfied: docutils<0.17,>=0.10 in c:\\python_envs\\yolo_env\\lib\\site-packages (from awscli>=1.27.10->skypilot==0.4.1->inference) (0.16)\n",
      "Requirement already satisfied: rsa<4.8,>=3.1.2 in c:\\python_envs\\yolo_env\\lib\\site-packages (from awscli>=1.27.10->skypilot==0.4.1->inference) (4.7.2)\n",
      "Requirement already satisfied: python-dateutil<3.0.0,>=2.1 in c:\\python_envs\\yolo_env\\lib\\site-packages (from botocore>=1.29.10->skypilot==0.4.1->inference) (2.9.0.post0)\n",
      "Requirement already satisfied: httpcore==1.* in c:\\python_envs\\yolo_env\\lib\\site-packages (from httpx<1,>=0.23.0->openai>=1.12.0->inference) (1.0.5)\n",
      "Requirement already satisfied: h11<0.15,>=0.13 in c:\\python_envs\\yolo_env\\lib\\site-packages (from httpcore==1.*->httpx<1,>=0.23.0->openai>=1.12.0->inference) (0.14.0)\n",
      "Requirement already satisfied: MarkupSafe>=2.0 in c:\\python_envs\\yolo_env\\lib\\site-packages (from jinja2>=3.0->skypilot==0.4.1->inference) (2.1.5)\n",
      "Requirement already satisfied: mdurl~=0.1 in c:\\python_envs\\yolo_env\\lib\\site-packages (from markdown-it-py>=2.2.0->rich<=13.5.2->inference) (0.1.2)\n",
      "Requirement already satisfied: contourpy>=1.0.1 in c:\\python_envs\\yolo_env\\lib\\site-packages (from matplotlib>=3.6.0->supervision<1.0.0,>0.16.0->inference) (1.2.0)\n",
      "Requirement already satisfied: cycler>=0.10 in c:\\python_envs\\yolo_env\\lib\\site-packages (from matplotlib>=3.6.0->supervision<1.0.0,>0.16.0->inference) (0.10.0)\n",
      "Requirement already satisfied: fonttools>=4.22.0 in c:\\python_envs\\yolo_env\\lib\\site-packages (from matplotlib>=3.6.0->supervision<1.0.0,>0.16.0->inference) (4.50.0)\n",
      "Requirement already satisfied: kiwisolver>=1.3.1 in c:\\python_envs\\yolo_env\\lib\\site-packages (from matplotlib>=3.6.0->supervision<1.0.0,>0.16.0->inference) (1.4.5)\n",
      "Requirement already satisfied: pyparsing>=2.3.1 in c:\\python_envs\\yolo_env\\lib\\site-packages (from matplotlib>=3.6.0->supervision<1.0.0,>0.16.0->inference) (3.1.2)\n",
      "Requirement already satisfied: tzdata>=2022.7 in c:\\python_envs\\yolo_env\\lib\\site-packages (from pandas>=1.3.0->skypilot==0.4.1->inference) (2024.1)\n",
      "Requirement already satisfied: wcwidth in c:\\python_envs\\yolo_env\\lib\\site-packages (from PrettyTable>=2.0.0->skypilot==0.4.1->inference) (0.2.13)\n",
      "Requirement already satisfied: iniconfig in c:\\python_envs\\yolo_env\\lib\\site-packages (from pytest>=7.0.0->pytest-asyncio<=0.21.1->inference) (2.0.0)\n",
      "Requirement already satisfied: pluggy<2.0,>=1.4 in c:\\python_envs\\yolo_env\\lib\\site-packages (from pytest>=7.0.0->pytest-asyncio<=0.21.1->inference) (1.4.0)\n",
      "Requirement already satisfied: mypy-extensions>=0.3.0 in c:\\python_envs\\yolo_env\\lib\\site-packages (from typing-inspect<1,>=0.4.0->dataclasses-json>=0.6.0->inference) (1.0.0)\n",
      "Requirement already satisfied: humanfriendly>=9.1 in c:\\python_envs\\yolo_env\\lib\\site-packages (from coloredlogs->onnxruntime<=1.15.1->inference) (10.0)\n",
      "Requirement already satisfied: cffi>=1.12 in c:\\python_envs\\yolo_env\\lib\\site-packages (from cryptography->skypilot==0.4.1->inference) (1.16.0)\n",
      "Requirement already satisfied: jsonschema-specifications>=2023.03.6 in c:\\python_envs\\yolo_env\\lib\\site-packages (from jsonschema->skypilot==0.4.1->inference) (2023.12.1)\n",
      "Requirement already satisfied: referencing>=0.28.4 in c:\\python_envs\\yolo_env\\lib\\site-packages (from jsonschema->skypilot==0.4.1->inference) (0.34.0)\n",
      "Requirement already satisfied: rpds-py>=0.7.1 in c:\\python_envs\\yolo_env\\lib\\site-packages (from jsonschema->skypilot==0.4.1->inference) (0.18.0)\n",
      "Requirement already satisfied: time-machine>=2.6.0 in c:\\python_envs\\yolo_env\\lib\\site-packages (from pendulum->skypilot==0.4.1->inference) (2.14.1)\n",
      "Requirement already satisfied: mpmath>=0.19 in c:\\python_envs\\yolo_env\\lib\\site-packages (from sympy->onnxruntime<=1.15.1->inference) (1.3.0)\n",
      "Requirement already satisfied: pycparser in c:\\python_envs\\yolo_env\\lib\\site-packages (from cffi>=1.12->cryptography->skypilot==0.4.1->inference) (2.22)\n",
      "Requirement already satisfied: pyreadline3 in c:\\python_envs\\yolo_env\\lib\\site-packages (from humanfriendly>=9.1->coloredlogs->onnxruntime<=1.15.1->inference) (3.4.1)\n",
      "Requirement already satisfied: pyasn1>=0.1.3 in c:\\python_envs\\yolo_env\\lib\\site-packages (from rsa<4.8,>=3.1.2->awscli>=1.27.10->skypilot==0.4.1->inference) (0.6.0)\n"
     ]
    }
   ],
   "source": [
    "pip install --upgrade inference"
   ]
  },
  {
   "cell_type": "code",
   "execution_count": 9,
   "metadata": {
    "vscode": {
     "languageId": "powershell"
    }
   },
   "outputs": [
    {
     "name": "stderr",
     "output_type": "stream",
     "text": [
      "UserWarning: This is now an optional IPython functionality, setting dhist requires you to install the `pickleshare` library.\n"
     ]
    },
    {
     "name": "stdout",
     "output_type": "stream",
     "text": [
      "c:\\my_project\\yolo_football_video_MoT\n"
     ]
    }
   ],
   "source": [
    "cd C:\\my_project\\yolo_football_video_MoT"
   ]
  },
  {
   "cell_type": "markdown",
   "metadata": {},
   "source": [
    "```powershell\n",
    "cat .\\chelsea_newcastle-1\\data.yaml\n",
    "```"
   ]
  }
 ],
 "metadata": {
  "kernelspec": {
   "display_name": "yolo_env",
   "language": "python",
   "name": "python3"
  },
  "language_info": {
   "codemirror_mode": {
    "name": "ipython",
    "version": 3
   },
   "file_extension": ".py",
   "mimetype": "text/x-python",
   "name": "python",
   "nbconvert_exporter": "python",
   "pygments_lexer": "ipython3",
   "version": "3.11.7"
  }
 },
 "nbformat": 4,
 "nbformat_minor": 2
}
