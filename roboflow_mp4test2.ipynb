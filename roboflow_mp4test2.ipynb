{
 "cells": [
  {
   "cell_type": "code",
   "execution_count": 2,
   "metadata": {},
   "outputs": [],
   "source": [
    "from roboflow import Roboflow"
   ]
  },
  {
   "cell_type": "code",
   "execution_count": 3,
   "metadata": {},
   "outputs": [
    {
     "name": "stdout",
     "output_type": "stream",
     "text": [
      "loading Roboflow workspace...\n",
      "loading Roboflow project...\n"
     ]
    }
   ],
   "source": [
    "rf = Roboflow(api_key=\"EQazb1etxBV71iH6TAIX\")\n",
    "project = rf.workspace('kshi2').project(\"chelsea_newcastle_test\")\n",
    "model = project.version(1312).model"
   ]
  },
  {
   "cell_type": "code",
   "execution_count": 4,
   "metadata": {},
   "outputs": [
    {
     "data": {
      "text/plain": [
       "'kshi2/chelsea_newcastle_test/1312'"
      ]
     },
     "execution_count": 4,
     "metadata": {},
     "output_type": "execute_result"
    }
   ],
   "source": [
    "model.id"
   ]
  },
  {
   "cell_type": "code",
   "execution_count": 5,
   "metadata": {},
   "outputs": [
    {
     "data": {
      "text/html": [
       "<pre style=\"white-space:pre;overflow-x:auto;line-height:normal;font-family:Menlo,'DejaVu Sans Mono',consolas,'Courier New',monospace\"><span style=\"color: #7fbfbf; text-decoration-color: #7fbfbf\">[04/08/24 15:32:56] </span><span style=\"color: #800000; text-decoration-color: #800000\">WARNING </span> Your inference package version <span style=\"color: #008080; text-decoration-color: #008080; font-weight: bold\">0.9</span>.<span style=\"color: #008080; text-decoration-color: #008080; font-weight: bold\">17</span> is out of date! Please upgrade to <a href=\"file://c:\\python_envs\\yolo_env\\Lib\\site-packages\\inference\\core\\__init__.py\" target=\"_blank\"><span style=\"color: #7f7f7f; text-decoration-color: #7f7f7f\">__init__.py</span></a><span style=\"color: #7f7f7f; text-decoration-color: #7f7f7f\">:</span><a href=\"file://c:\\python_envs\\yolo_env\\Lib\\site-packages\\inference\\core\\__init__.py#35\" target=\"_blank\"><span style=\"color: #7f7f7f; text-decoration-color: #7f7f7f\">35</span></a>\n",
       "<span style=\"color: #7fbfbf; text-decoration-color: #7fbfbf\">                    </span>         version <span style=\"color: #008080; text-decoration-color: #008080; font-weight: bold\">0.9</span>.<span style=\"color: #008080; text-decoration-color: #008080; font-weight: bold\">20</span> of inference for the latest features and bug fixes by    <span style=\"color: #7f7f7f; text-decoration-color: #7f7f7f\">              </span>\n",
       "<span style=\"color: #7fbfbf; text-decoration-color: #7fbfbf\">                    </span>         running `pip install --upgrade inference`.                              <span style=\"color: #7f7f7f; text-decoration-color: #7f7f7f\">              </span>\n",
       "</pre>\n"
      ],
      "text/plain": [
       "\u001b[2;36m[04/08/24 15:32:56]\u001b[0m\u001b[2;36m \u001b[0m\u001b[31mWARNING \u001b[0m Your inference package version \u001b[1;36m0.9\u001b[0m.\u001b[1;36m17\u001b[0m is out of date! Please upgrade to \u001b]8;id=104777;file://c:\\python_envs\\yolo_env\\Lib\\site-packages\\inference\\core\\__init__.py\u001b\\\u001b[2m__init__.py\u001b[0m\u001b]8;;\u001b\\\u001b[2m:\u001b[0m\u001b]8;id=509064;file://c:\\python_envs\\yolo_env\\Lib\\site-packages\\inference\\core\\__init__.py#35\u001b\\\u001b[2m35\u001b[0m\u001b]8;;\u001b\\\n",
       "\u001b[2;36m                    \u001b[0m         version \u001b[1;36m0.9\u001b[0m.\u001b[1;36m20\u001b[0m of inference for the latest features and bug fixes by    \u001b[2m              \u001b[0m\n",
       "\u001b[2;36m                    \u001b[0m         running `pip install --upgrade inference`.                              \u001b[2m              \u001b[0m\n"
      ]
     },
     "metadata": {},
     "output_type": "display_data"
    },
    {
     "name": "stderr",
     "output_type": "stream",
     "text": [
      "SupervisionWarnings: BoxAnnotator is deprecated: `BoxAnnotator` is deprecated and will be removed in `supervision-0.22.0`. Use `BoundingBoxAnnotator` and `LabelAnnotator` instead\n"
     ]
    },
    {
     "ename": "InvalidModelIDError",
     "evalue": "Model ID: `kshi2/chelsea_newcastle_test/1312` is invalid.",
     "output_type": "error",
     "traceback": [
      "\u001b[1;31m---------------------------------------------------------------------------\u001b[0m",
      "\u001b[1;31mInvalidModelIDError\u001b[0m                       Traceback (most recent call last)",
      "Cell \u001b[1;32mIn[5], line 10\u001b[0m\n\u001b[0;32m      6\u001b[0m \u001b[38;5;28;01mdef\u001b[39;00m \u001b[38;5;21mmy_custom_sink\u001b[39m(predictions: \u001b[38;5;28mdict\u001b[39m, video_frame: VideoFrame):\n\u001b[0;32m      7\u001b[0m     \u001b[38;5;66;03m# print the frame ID of the video_frame object\u001b[39;00m\n\u001b[0;32m      8\u001b[0m     \u001b[38;5;28mprint\u001b[39m(\u001b[38;5;124mf\u001b[39m\u001b[38;5;124m\"\u001b[39m\u001b[38;5;124mFrame ID: \u001b[39m\u001b[38;5;132;01m{\u001b[39;00mvideo_frame\u001b[38;5;241m.\u001b[39mframe_id\u001b[38;5;132;01m}\u001b[39;00m\u001b[38;5;124m\"\u001b[39m)\n\u001b[1;32m---> 10\u001b[0m pipeline \u001b[38;5;241m=\u001b[39m \u001b[43mInferencePipeline\u001b[49m\u001b[38;5;241;43m.\u001b[39;49m\u001b[43minit\u001b[49m\u001b[43m(\u001b[49m\n\u001b[0;32m     11\u001b[0m \u001b[43m    \u001b[49m\u001b[43mmodel_id\u001b[49m\u001b[38;5;241;43m=\u001b[39;49m\u001b[43mmodel\u001b[49m\u001b[38;5;241;43m.\u001b[39;49m\u001b[43mid\u001b[49m\u001b[43m,\u001b[49m\n\u001b[0;32m     12\u001b[0m \u001b[43m    \u001b[49m\u001b[43mvideo_reference\u001b[49m\u001b[38;5;241;43m=\u001b[39;49m\u001b[38;5;124;43m'\u001b[39;49m\u001b[38;5;124;43mC:/my_project/yolo_football_video_MoT/data/chelsea_newcastle_test.mp4\u001b[39;49m\u001b[38;5;124;43m'\u001b[39;49m\u001b[43m,\u001b[49m\n\u001b[0;32m     13\u001b[0m \u001b[43m    \u001b[49m\u001b[43mon_prediction\u001b[49m\u001b[38;5;241;43m=\u001b[39;49m\u001b[43mmy_custom_sink\u001b[49m\u001b[43m,\u001b[49m\n\u001b[0;32m     14\u001b[0m \u001b[43m)\u001b[49m\n\u001b[0;32m     16\u001b[0m pipeline\u001b[38;5;241m.\u001b[39mstart()\n\u001b[0;32m     17\u001b[0m pipeline\u001b[38;5;241m.\u001b[39mjoin()\n",
      "File \u001b[1;32mc:\\python_envs\\yolo_env\\Lib\\site-packages\\inference\\core\\interfaces\\stream\\inference_pipeline.py:177\u001b[0m, in \u001b[0;36mInferencePipeline.init\u001b[1;34m(cls, video_reference, model_id, on_prediction, api_key, max_fps, watchdog, status_update_handlers, source_buffer_filling_strategy, source_buffer_consumption_strategy, class_agnostic_nms, confidence, iou_threshold, max_candidates, max_detections, mask_decode_mode, tradeoff_factor, active_learning_enabled, video_source_properties)\u001b[0m\n\u001b[0;32m    167\u001b[0m     status_update_handlers \u001b[38;5;241m=\u001b[39m []\n\u001b[0;32m    168\u001b[0m inference_config \u001b[38;5;241m=\u001b[39m ModelConfig\u001b[38;5;241m.\u001b[39minit(\n\u001b[0;32m    169\u001b[0m     class_agnostic_nms\u001b[38;5;241m=\u001b[39mclass_agnostic_nms,\n\u001b[0;32m    170\u001b[0m     confidence\u001b[38;5;241m=\u001b[39mconfidence,\n\u001b[1;32m   (...)\u001b[0m\n\u001b[0;32m    175\u001b[0m     tradeoff_factor\u001b[38;5;241m=\u001b[39mtradeoff_factor,\n\u001b[0;32m    176\u001b[0m )\n\u001b[1;32m--> 177\u001b[0m model \u001b[38;5;241m=\u001b[39m \u001b[43mget_model\u001b[49m\u001b[43m(\u001b[49m\u001b[43mmodel_id\u001b[49m\u001b[38;5;241;43m=\u001b[39;49m\u001b[43mmodel_id\u001b[49m\u001b[43m,\u001b[49m\u001b[43m \u001b[49m\u001b[43mapi_key\u001b[49m\u001b[38;5;241;43m=\u001b[39;49m\u001b[43mapi_key\u001b[49m\u001b[43m)\u001b[49m\n\u001b[0;32m    178\u001b[0m on_video_frame \u001b[38;5;241m=\u001b[39m partial(\n\u001b[0;32m    179\u001b[0m     default_process_frame, model\u001b[38;5;241m=\u001b[39mmodel, inference_config\u001b[38;5;241m=\u001b[39minference_config\n\u001b[0;32m    180\u001b[0m )\n\u001b[0;32m    181\u001b[0m \u001b[38;5;28;01mif\u001b[39;00m watchdog \u001b[38;5;129;01mis\u001b[39;00m \u001b[38;5;28;01mNone\u001b[39;00m:\n",
      "File \u001b[1;32mc:\\python_envs\\yolo_env\\Lib\\site-packages\\inference\\models\\utils.py:193\u001b[0m, in \u001b[0;36mget_model\u001b[1;34m(model_id, api_key, **kwargs)\u001b[0m\n\u001b[0;32m    192\u001b[0m \u001b[38;5;28;01mdef\u001b[39;00m \u001b[38;5;21mget_model\u001b[39m(model_id, api_key\u001b[38;5;241m=\u001b[39mAPI_KEY, \u001b[38;5;241m*\u001b[39m\u001b[38;5;241m*\u001b[39mkwargs):\n\u001b[1;32m--> 193\u001b[0m     task, model \u001b[38;5;241m=\u001b[39m \u001b[43mget_model_type\u001b[49m\u001b[43m(\u001b[49m\u001b[43mmodel_id\u001b[49m\u001b[43m,\u001b[49m\u001b[43m \u001b[49m\u001b[43mapi_key\u001b[49m\u001b[38;5;241;43m=\u001b[39;49m\u001b[43mapi_key\u001b[49m\u001b[43m)\u001b[49m\n\u001b[0;32m    194\u001b[0m     \u001b[38;5;28;01mreturn\u001b[39;00m ROBOFLOW_MODEL_TYPES[(task, model)](model_id, api_key\u001b[38;5;241m=\u001b[39mapi_key, \u001b[38;5;241m*\u001b[39m\u001b[38;5;241m*\u001b[39mkwargs)\n",
      "File \u001b[1;32mc:\\python_envs\\yolo_env\\Lib\\site-packages\\inference\\core\\registries\\roboflow.py:87\u001b[0m, in \u001b[0;36mget_model_type\u001b[1;34m(model_id, api_key)\u001b[0m\n\u001b[0;32m     71\u001b[0m \u001b[38;5;250m\u001b[39m\u001b[38;5;124;03m\"\"\"Retrieves the model type based on the given model ID and API key.\u001b[39;00m\n\u001b[0;32m     72\u001b[0m \n\u001b[0;32m     73\u001b[0m \u001b[38;5;124;03mArgs:\u001b[39;00m\n\u001b[1;32m   (...)\u001b[0m\n\u001b[0;32m     84\u001b[0m \u001b[38;5;124;03m    MalformedRoboflowAPIResponseError: Roboflow API responds in invalid format.\u001b[39;00m\n\u001b[0;32m     85\u001b[0m \u001b[38;5;124;03m\"\"\"\u001b[39;00m\n\u001b[0;32m     86\u001b[0m model_id \u001b[38;5;241m=\u001b[39m resolve_roboflow_model_alias(model_id\u001b[38;5;241m=\u001b[39mmodel_id)\n\u001b[1;32m---> 87\u001b[0m dataset_id, version_id \u001b[38;5;241m=\u001b[39m \u001b[43mget_model_id_chunks\u001b[49m\u001b[43m(\u001b[49m\u001b[43mmodel_id\u001b[49m\u001b[38;5;241;43m=\u001b[39;49m\u001b[43mmodel_id\u001b[49m\u001b[43m)\u001b[49m\n\u001b[0;32m     88\u001b[0m \u001b[38;5;28;01mif\u001b[39;00m dataset_id \u001b[38;5;129;01min\u001b[39;00m GENERIC_MODELS:\n\u001b[0;32m     89\u001b[0m     logger\u001b[38;5;241m.\u001b[39mdebug(\u001b[38;5;124mf\u001b[39m\u001b[38;5;124m\"\u001b[39m\u001b[38;5;124mLoading generic model: \u001b[39m\u001b[38;5;132;01m{\u001b[39;00mdataset_id\u001b[38;5;132;01m}\u001b[39;00m\u001b[38;5;124m.\u001b[39m\u001b[38;5;124m\"\u001b[39m)\n",
      "File \u001b[1;32mc:\\python_envs\\yolo_env\\Lib\\site-packages\\inference\\core\\utils\\roboflow.py:10\u001b[0m, in \u001b[0;36mget_model_id_chunks\u001b[1;34m(model_id)\u001b[0m\n\u001b[0;32m      8\u001b[0m model_id_chunks \u001b[38;5;241m=\u001b[39m model_id\u001b[38;5;241m.\u001b[39msplit(\u001b[38;5;124m\"\u001b[39m\u001b[38;5;124m/\u001b[39m\u001b[38;5;124m\"\u001b[39m)\n\u001b[0;32m      9\u001b[0m \u001b[38;5;28;01mif\u001b[39;00m \u001b[38;5;28mlen\u001b[39m(model_id_chunks) \u001b[38;5;241m!=\u001b[39m \u001b[38;5;241m2\u001b[39m:\n\u001b[1;32m---> 10\u001b[0m     \u001b[38;5;28;01mraise\u001b[39;00m InvalidModelIDError(\u001b[38;5;124mf\u001b[39m\u001b[38;5;124m\"\u001b[39m\u001b[38;5;124mModel ID: `\u001b[39m\u001b[38;5;132;01m{\u001b[39;00mmodel_id\u001b[38;5;132;01m}\u001b[39;00m\u001b[38;5;124m` is invalid.\u001b[39m\u001b[38;5;124m\"\u001b[39m)\n\u001b[0;32m     11\u001b[0m \u001b[38;5;28;01mreturn\u001b[39;00m model_id_chunks[\u001b[38;5;241m0\u001b[39m], model_id_chunks[\u001b[38;5;241m1\u001b[39m]\n",
      "\u001b[1;31mInvalidModelIDError\u001b[0m: Model ID: `kshi2/chelsea_newcastle_test/1312` is invalid."
     ]
    }
   ],
   "source": [
    "from inference import InferencePipeline\n",
    "# import VideoFrame for type hinting\n",
    "from inference.core.interfaces.camera.entities import VideoFrame\n",
    "\n",
    "# define sink function\n",
    "def my_custom_sink(predictions: dict, video_frame: VideoFrame):\n",
    "    # print the frame ID of the video_frame object\n",
    "    print(f\"Frame ID: {video_frame.frame_id}\")\n",
    "\n",
    "pipeline = InferencePipeline.init(\n",
    "    model_id=model.id,\n",
    "    video_reference='C:/my_project/yolo_football_video_MoT/data/chelsea_newcastle_test.mp4',\n",
    "    on_prediction=my_custom_sink,\n",
    ")\n",
    "\n",
    "pipeline.start()\n",
    "pipeline.join()\n"
   ]
  }
 ],
 "metadata": {
  "kernelspec": {
   "display_name": "yolo_env",
   "language": "python",
   "name": "python3"
  },
  "language_info": {
   "codemirror_mode": {
    "name": "ipython",
    "version": 3
   },
   "file_extension": ".py",
   "mimetype": "text/x-python",
   "name": "python",
   "nbconvert_exporter": "python",
   "pygments_lexer": "ipython3",
   "version": "3.11.7"
  }
 },
 "nbformat": 4,
 "nbformat_minor": 2
}
